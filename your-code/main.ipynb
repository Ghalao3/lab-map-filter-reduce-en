{
 "cells": [
  {
   "cell_type": "markdown",
   "metadata": {},
   "source": [
    "# Before your start:\n",
    "- Read the README.md file\n",
    "- Comment as much as you can and use the resources in the README.md file\n",
    "- Happy learning!"
   ]
  },
  {
   "cell_type": "code",
   "execution_count": 13,
   "metadata": {},
   "outputs": [
    {
     "name": "stdout",
     "output_type": "stream",
     "text": [
      "Collecting pandas\n",
      "  Downloading pandas-2.2.3-cp311-cp311-win_amd64.whl.metadata (19 kB)\n",
      "Collecting numpy>=1.23.2 (from pandas)\n",
      "  Downloading numpy-2.2.3-cp311-cp311-win_amd64.whl.metadata (60 kB)\n",
      "     ---------------------------------------- 0.0/60.8 kB ? eta -:--:--\n",
      "     -------------------- ------------------- 30.7/60.8 kB 1.3 MB/s eta 0:00:01\n",
      "     -------------------- ------------------- 30.7/60.8 kB 1.3 MB/s eta 0:00:01\n",
      "     ------------------------------- ------ 51.2/60.8 kB 435.7 kB/s eta 0:00:01\n",
      "     -------------------------------------- 60.8/60.8 kB 404.8 kB/s eta 0:00:00\n",
      "Requirement already satisfied: python-dateutil>=2.8.2 in c:\\users\\hp\\appdata\\local\\packages\\pythonsoftwarefoundation.python.3.11_qbz5n2kfra8p0\\localcache\\local-packages\\python311\\site-packages (from pandas) (2.9.0.post0)\n",
      "Collecting pytz>=2020.1 (from pandas)\n",
      "  Downloading pytz-2025.1-py2.py3-none-any.whl.metadata (22 kB)\n",
      "Collecting tzdata>=2022.7 (from pandas)\n",
      "  Downloading tzdata-2025.1-py2.py3-none-any.whl.metadata (1.4 kB)\n",
      "Requirement already satisfied: six>=1.5 in c:\\users\\hp\\appdata\\local\\packages\\pythonsoftwarefoundation.python.3.11_qbz5n2kfra8p0\\localcache\\local-packages\\python311\\site-packages (from python-dateutil>=2.8.2->pandas) (1.17.0)\n",
      "Downloading pandas-2.2.3-cp311-cp311-win_amd64.whl (11.6 MB)\n",
      "   ---------------------------------------- 0.0/11.6 MB ? eta -:--:--\n",
      "   ---------------------------------------- 0.0/11.6 MB 1.9 MB/s eta 0:00:07\n",
      "   ---------------------------------------- 0.1/11.6 MB 812.7 kB/s eta 0:00:15\n",
      "   ---------------------------------------- 0.1/11.6 MB 787.7 kB/s eta 0:00:15\n",
      "   ---------------------------------------- 0.1/11.6 MB 581.0 kB/s eta 0:00:20\n",
      "   ---------------------------------------- 0.1/11.6 MB 581.0 kB/s eta 0:00:20\n",
      "   ---------------------------------------- 0.1/11.6 MB 467.6 kB/s eta 0:00:25\n",
      "    --------------------------------------- 0.2/11.6 MB 508.4 kB/s eta 0:00:23\n",
      "    --------------------------------------- 0.2/11.6 MB 523.5 kB/s eta 0:00:22\n",
      "    --------------------------------------- 0.2/11.6 MB 597.3 kB/s eta 0:00:20\n",
      "    --------------------------------------- 0.2/11.6 MB 576.2 kB/s eta 0:00:20\n",
      "    --------------------------------------- 0.3/11.6 MB 607.9 kB/s eta 0:00:19\n",
      "   - -------------------------------------- 0.3/11.6 MB 655.4 kB/s eta 0:00:18\n",
      "   - -------------------------------------- 0.4/11.6 MB 673.7 kB/s eta 0:00:17\n",
      "   - -------------------------------------- 0.4/11.6 MB 673.7 kB/s eta 0:00:17\n",
      "   - -------------------------------------- 0.4/11.6 MB 673.7 kB/s eta 0:00:17\n",
      "   - -------------------------------------- 0.4/11.6 MB 673.7 kB/s eta 0:00:17\n",
      "   - -------------------------------------- 0.4/11.6 MB 550.7 kB/s eta 0:00:21\n",
      "   - -------------------------------------- 0.4/11.6 MB 561.5 kB/s eta 0:00:20\n",
      "   - -------------------------------------- 0.5/11.6 MB 563.1 kB/s eta 0:00:20\n",
      "   - -------------------------------------- 0.5/11.6 MB 546.0 kB/s eta 0:00:21\n",
      "   - -------------------------------------- 0.5/11.6 MB 585.1 kB/s eta 0:00:19\n",
      "   - -------------------------------------- 0.5/11.6 MB 586.1 kB/s eta 0:00:19\n",
      "   - -------------------------------------- 0.5/11.6 MB 586.1 kB/s eta 0:00:19\n",
      "   - -------------------------------------- 0.5/11.6 MB 586.1 kB/s eta 0:00:19\n",
      "   -- ------------------------------------- 0.6/11.6 MB 539.5 kB/s eta 0:00:21\n",
      "   -- ------------------------------------- 0.6/11.6 MB 562.7 kB/s eta 0:00:20\n",
      "   -- ------------------------------------- 0.7/11.6 MB 593.0 kB/s eta 0:00:19\n",
      "   -- ------------------------------------- 0.7/11.6 MB 620.6 kB/s eta 0:00:18\n",
      "   -- ------------------------------------- 0.7/11.6 MB 620.6 kB/s eta 0:00:18\n",
      "   -- ------------------------------------- 0.7/11.6 MB 620.6 kB/s eta 0:00:18\n",
      "   -- ------------------------------------- 0.8/11.6 MB 593.7 kB/s eta 0:00:19\n",
      "   -- ------------------------------------- 0.8/11.6 MB 602.4 kB/s eta 0:00:18\n",
      "   --- ------------------------------------ 0.9/11.6 MB 655.3 kB/s eta 0:00:17\n",
      "   --- ------------------------------------ 0.9/11.6 MB 655.3 kB/s eta 0:00:17\n",
      "   --- ------------------------------------ 1.0/11.6 MB 662.0 kB/s eta 0:00:17\n",
      "   --- ------------------------------------ 1.1/11.6 MB 675.2 kB/s eta 0:00:16\n",
      "   --- ------------------------------------ 1.1/11.6 MB 681.4 kB/s eta 0:00:16\n",
      "   --- ------------------------------------ 1.2/11.6 MB 698.9 kB/s eta 0:00:15\n",
      "   ---- ----------------------------------- 1.2/11.6 MB 704.3 kB/s eta 0:00:15\n",
      "   ---- ----------------------------------- 1.3/11.6 MB 726.7 kB/s eta 0:00:15\n",
      "   ---- ----------------------------------- 1.3/11.6 MB 730.6 kB/s eta 0:00:15\n",
      "   ---- ----------------------------------- 1.3/11.6 MB 747.0 kB/s eta 0:00:14\n",
      "   ---- ----------------------------------- 1.4/11.6 MB 759.7 kB/s eta 0:00:14\n",
      "   ----- ---------------------------------- 1.5/11.6 MB 768.9 kB/s eta 0:00:14\n",
      "   ----- ---------------------------------- 1.5/11.6 MB 768.9 kB/s eta 0:00:14\n",
      "   ----- ---------------------------------- 1.5/11.6 MB 768.9 kB/s eta 0:00:14\n",
      "   ----- ---------------------------------- 1.5/11.6 MB 724.7 kB/s eta 0:00:14\n",
      "   ----- ---------------------------------- 1.5/11.6 MB 728.6 kB/s eta 0:00:14\n",
      "   ----- ---------------------------------- 1.6/11.6 MB 735.8 kB/s eta 0:00:14\n",
      "   ----- ---------------------------------- 1.7/11.6 MB 761.4 kB/s eta 0:00:14\n",
      "   ----- ---------------------------------- 1.7/11.6 MB 761.4 kB/s eta 0:00:14\n",
      "   ------ --------------------------------- 1.8/11.6 MB 752.6 kB/s eta 0:00:14\n",
      "   ------ --------------------------------- 1.8/11.6 MB 776.7 kB/s eta 0:00:13\n",
      "   ------ --------------------------------- 1.9/11.6 MB 796.6 kB/s eta 0:00:13\n",
      "   ------ --------------------------------- 1.9/11.6 MB 796.6 kB/s eta 0:00:13\n",
      "   ------ --------------------------------- 1.9/11.6 MB 778.8 kB/s eta 0:00:13\n",
      "   ------- -------------------------------- 2.0/11.6 MB 800.8 kB/s eta 0:00:12\n",
      "   ------- -------------------------------- 2.1/11.6 MB 831.0 kB/s eta 0:00:12\n",
      "   ------- -------------------------------- 2.2/11.6 MB 847.4 kB/s eta 0:00:12\n",
      "   ------- -------------------------------- 2.3/11.6 MB 868.5 kB/s eta 0:00:11\n",
      "   -------- ------------------------------- 2.4/11.6 MB 878.9 kB/s eta 0:00:11\n",
      "   -------- ------------------------------- 2.5/11.6 MB 909.8 kB/s eta 0:00:11\n",
      "   -------- ------------------------------- 2.6/11.6 MB 931.2 kB/s eta 0:00:10\n",
      "   --------- ------------------------------ 2.7/11.6 MB 966.8 kB/s eta 0:00:10\n",
      "   --------- ------------------------------ 2.9/11.6 MB 990.2 kB/s eta 0:00:09\n",
      "   --------- ------------------------------ 2.9/11.6 MB 990.2 kB/s eta 0:00:09\n",
      "   --------- ------------------------------ 2.9/11.6 MB 969.2 kB/s eta 0:00:10\n",
      "   ---------- ----------------------------- 3.0/11.6 MB 1.0 MB/s eta 0:00:09\n",
      "   ---------- ----------------------------- 3.2/11.6 MB 1.0 MB/s eta 0:00:09\n",
      "   ----------- ---------------------------- 3.3/11.6 MB 1.1 MB/s eta 0:00:08\n",
      "   ----------- ---------------------------- 3.5/11.6 MB 1.1 MB/s eta 0:00:08\n",
      "   ------------ --------------------------- 3.6/11.6 MB 1.1 MB/s eta 0:00:08\n",
      "   ------------ --------------------------- 3.6/11.6 MB 1.1 MB/s eta 0:00:08\n",
      "   ------------- -------------------------- 3.8/11.6 MB 1.1 MB/s eta 0:00:07\n",
      "   ------------- -------------------------- 3.9/11.6 MB 1.2 MB/s eta 0:00:07\n",
      "   -------------- ------------------------- 4.1/11.6 MB 1.2 MB/s eta 0:00:07\n",
      "   -------------- ------------------------- 4.2/11.6 MB 1.2 MB/s eta 0:00:06\n",
      "   --------------- ------------------------ 4.4/11.6 MB 1.3 MB/s eta 0:00:06\n",
      "   --------------- ------------------------ 4.6/11.6 MB 1.3 MB/s eta 0:00:06\n",
      "   ---------------- ----------------------- 4.6/11.6 MB 1.3 MB/s eta 0:00:06\n",
      "   ---------------- ----------------------- 4.7/11.6 MB 1.3 MB/s eta 0:00:06\n",
      "   ---------------- ----------------------- 4.7/11.6 MB 1.3 MB/s eta 0:00:06\n",
      "   ----------------- ---------------------- 5.0/11.6 MB 1.4 MB/s eta 0:00:05\n",
      "   ----------------- ---------------------- 5.0/11.6 MB 1.4 MB/s eta 0:00:05\n",
      "   ----------------- ---------------------- 5.1/11.6 MB 1.3 MB/s eta 0:00:05\n",
      "   ------------------ --------------------- 5.3/11.6 MB 1.4 MB/s eta 0:00:05\n",
      "   ------------------ --------------------- 5.4/11.6 MB 1.4 MB/s eta 0:00:05\n",
      "   ------------------ --------------------- 5.5/11.6 MB 1.4 MB/s eta 0:00:05\n",
      "   ------------------- -------------------- 5.7/11.6 MB 1.4 MB/s eta 0:00:05\n",
      "   ------------------- -------------------- 5.8/11.6 MB 1.4 MB/s eta 0:00:05\n",
      "   -------------------- ------------------- 6.0/11.6 MB 1.5 MB/s eta 0:00:04\n",
      "   --------------------- ------------------ 6.2/11.6 MB 1.5 MB/s eta 0:00:04\n",
      "   ---------------------- ----------------- 6.5/11.6 MB 1.6 MB/s eta 0:00:04\n",
      "   ----------------------- ---------------- 6.7/11.6 MB 1.6 MB/s eta 0:00:04\n",
      "   ----------------------- ---------------- 7.0/11.6 MB 1.6 MB/s eta 0:00:03\n",
      "   ------------------------ --------------- 7.2/11.6 MB 1.7 MB/s eta 0:00:03\n",
      "   ------------------------- -------------- 7.4/11.6 MB 1.7 MB/s eta 0:00:03\n",
      "   -------------------------- ------------- 7.8/11.6 MB 1.8 MB/s eta 0:00:03\n",
      "   --------------------------- ------------ 8.1/11.6 MB 1.8 MB/s eta 0:00:02\n",
      "   ---------------------------- ----------- 8.3/11.6 MB 1.9 MB/s eta 0:00:02\n",
      "   ------------------------------ --------- 8.7/11.6 MB 1.9 MB/s eta 0:00:02\n",
      "   ------------------------------ --------- 8.8/11.6 MB 1.9 MB/s eta 0:00:02\n",
      "   ------------------------------- -------- 9.2/11.6 MB 2.0 MB/s eta 0:00:02\n",
      "   -------------------------------- ------- 9.4/11.6 MB 2.0 MB/s eta 0:00:02\n",
      "   --------------------------------- ------ 9.7/11.6 MB 2.1 MB/s eta 0:00:01\n",
      "   ---------------------------------- ----- 10.0/11.6 MB 2.1 MB/s eta 0:00:01\n",
      "   ----------------------------------- ---- 10.3/11.6 MB 2.2 MB/s eta 0:00:01\n",
      "   ------------------------------------ --- 10.7/11.6 MB 2.6 MB/s eta 0:00:01\n",
      "   ------------------------------------ --- 10.7/11.6 MB 2.6 MB/s eta 0:00:01\n",
      "   ------------------------------------- -- 10.8/11.6 MB 2.7 MB/s eta 0:00:01\n",
      "   -------------------------------------- - 11.3/11.6 MB 3.1 MB/s eta 0:00:01\n",
      "   ---------------------------------------  11.4/11.6 MB 3.1 MB/s eta 0:00:01\n",
      "   ---------------------------------------  11.6/11.6 MB 3.2 MB/s eta 0:00:01\n",
      "   ---------------------------------------- 11.6/11.6 MB 3.2 MB/s eta 0:00:00\n",
      "Downloading numpy-2.2.3-cp311-cp311-win_amd64.whl (12.9 MB)\n",
      "   ---------------------------------------- 0.0/12.9 MB ? eta -:--:--\n",
      "   - -------------------------------------- 0.3/12.9 MB 10.2 MB/s eta 0:00:02\n",
      "   -- ------------------------------------- 0.8/12.9 MB 8.7 MB/s eta 0:00:02\n",
      "   --- ------------------------------------ 1.1/12.9 MB 7.5 MB/s eta 0:00:02\n",
      "   ---- ----------------------------------- 1.3/12.9 MB 7.7 MB/s eta 0:00:02\n",
      "   ----- ---------------------------------- 1.7/12.9 MB 7.9 MB/s eta 0:00:02\n",
      "   ------ --------------------------------- 2.1/12.9 MB 7.9 MB/s eta 0:00:02\n",
      "   ------ --------------------------------- 2.2/12.9 MB 7.9 MB/s eta 0:00:02\n",
      "   -------- ------------------------------- 2.7/12.9 MB 7.8 MB/s eta 0:00:02\n",
      "   --------- ------------------------------ 3.0/12.9 MB 8.0 MB/s eta 0:00:02\n",
      "   --------- ------------------------------ 3.0/12.9 MB 8.0 MB/s eta 0:00:02\n",
      "   ---------- ----------------------------- 3.4/12.9 MB 7.3 MB/s eta 0:00:02\n",
      "   ----------- ---------------------------- 3.8/12.9 MB 7.4 MB/s eta 0:00:02\n",
      "   ------------ --------------------------- 4.0/12.9 MB 7.6 MB/s eta 0:00:02\n",
      "   ------------- -------------------------- 4.3/12.9 MB 7.3 MB/s eta 0:00:02\n",
      "   --------------- ------------------------ 4.9/12.9 MB 7.6 MB/s eta 0:00:02\n",
      "   ---------------- ----------------------- 5.3/12.9 MB 7.7 MB/s eta 0:00:02\n",
      "   ----------------- ---------------------- 5.8/12.9 MB 7.8 MB/s eta 0:00:01\n",
      "   ------------------ --------------------- 5.9/12.9 MB 7.8 MB/s eta 0:00:01\n",
      "   ------------------- -------------------- 6.3/12.9 MB 7.4 MB/s eta 0:00:01\n",
      "   -------------------- ------------------- 6.6/12.9 MB 7.6 MB/s eta 0:00:01\n",
      "   ---------------------- ----------------- 7.2/12.9 MB 7.9 MB/s eta 0:00:01\n",
      "   ---------------------- ----------------- 7.2/12.9 MB 7.9 MB/s eta 0:00:01\n",
      "   ------------------------ --------------- 7.8/12.9 MB 7.6 MB/s eta 0:00:01\n",
      "   ------------------------- -------------- 8.4/12.9 MB 7.8 MB/s eta 0:00:01\n",
      "   --------------------------- ------------ 9.0/12.9 MB 8.1 MB/s eta 0:00:01\n",
      "   ---------------------------- ----------- 9.3/12.9 MB 8.0 MB/s eta 0:00:01\n",
      "   ------------------------------- -------- 10.2/12.9 MB 8.3 MB/s eta 0:00:01\n",
      "   --------------------------------- ------ 10.7/12.9 MB 8.4 MB/s eta 0:00:01\n",
      "   ---------------------------------- ----- 11.2/12.9 MB 8.6 MB/s eta 0:00:01\n",
      "   ------------------------------------ --- 11.7/12.9 MB 8.8 MB/s eta 0:00:01\n",
      "   -------------------------------------- - 12.5/12.9 MB 9.0 MB/s eta 0:00:01\n",
      "   ---------------------------------------  12.9/12.9 MB 9.2 MB/s eta 0:00:01\n",
      "   ---------------------------------------- 12.9/12.9 MB 9.0 MB/s eta 0:00:00\n",
      "Downloading pytz-2025.1-py2.py3-none-any.whl (507 kB)\n",
      "   ---------------------------------------- 0.0/507.9 kB ? eta -:--:--\n",
      "   --------------------------------------  501.8/507.9 kB 15.9 MB/s eta 0:00:01\n",
      "   --------------------------------------- 507.9/507.9 kB 10.6 MB/s eta 0:00:00\n",
      "Downloading tzdata-2025.1-py2.py3-none-any.whl (346 kB)\n",
      "   ---------------------------------------- 0.0/346.8 kB ? eta -:--:--\n",
      "   --------------------------------------- 346.8/346.8 kB 10.9 MB/s eta 0:00:00\n",
      "Installing collected packages: pytz, tzdata, numpy, pandas\n",
      "Successfully installed numpy-2.2.3 pandas-2.2.3 pytz-2025.1 tzdata-2025.1\n",
      "Note: you may need to restart the kernel to use updated packages.\n"
     ]
    },
    {
     "name": "stderr",
     "output_type": "stream",
     "text": [
      "\n",
      "[notice] A new release of pip is available: 24.0 -> 25.0.1\n",
      "[notice] To update, run: C:\\Users\\hp\\AppData\\Local\\Microsoft\\WindowsApps\\PythonSoftwareFoundation.Python.3.11_qbz5n2kfra8p0\\python.exe -m pip install --upgrade pip\n"
     ]
    }
   ],
   "source": [
    "pip install pandas"
   ]
  },
  {
   "cell_type": "code",
   "execution_count": 100,
   "metadata": {},
   "outputs": [],
   "source": [
    "# Import reduce from functools, numpy and pandas\n",
    "from functools import reduce\n",
    "import numpy\n",
    "import pandas"
   ]
  },
  {
   "cell_type": "markdown",
   "metadata": {},
   "source": [
    "# Challenge 1 - Mapping\n",
    "\n",
    "#### We will use the map function to clean up words in a book.\n",
    "\n",
    "In the following cell, we will read a text file containing the book The Prophet by Khalil Gibran."
   ]
  },
  {
   "cell_type": "code",
   "execution_count": 101,
   "metadata": {},
   "outputs": [],
   "source": [
    "location = '../data/58585-0.txt'\n",
    "with open(location, 'r', encoding=\"utf8\") as f:\n",
    "    prophet = f.read().split(' ')"
   ]
  },
  {
   "cell_type": "code",
   "execution_count": 102,
   "metadata": {},
   "outputs": [
    {
     "data": {
      "text/plain": [
       "13637"
      ]
     },
     "execution_count": 102,
     "metadata": {},
     "output_type": "execute_result"
    }
   ],
   "source": [
    "len(prophet)"
   ]
  },
  {
   "cell_type": "markdown",
   "metadata": {},
   "source": [
    "#### Let's remove the first 568 words since they contain information about the book but are not part of the book itself. \n",
    "\n",
    "Do this by removing from `prophet` elements 0 through 567 of the list (you can also do this by keeping elements 568 through the last element)."
   ]
  },
  {
   "cell_type": "code",
   "execution_count": 103,
   "metadata": {},
   "outputs": [],
   "source": [
    "prophet = prophet[568:]"
   ]
  },
  {
   "cell_type": "markdown",
   "metadata": {},
   "source": [
    "If you look through the words, you will find that many words have a reference attached to them. For example, let's look at words 1 through 10."
   ]
  },
  {
   "cell_type": "code",
   "execution_count": 104,
   "metadata": {},
   "outputs": [
    {
     "name": "stdout",
     "output_type": "stream",
     "text": [
      "['PROPHET\\n\\n|Almustafa,', 'the{7}', 'chosen', 'and', 'the\\nbeloved,', 'who', 'was', 'a', 'dawn', 'unto']\n"
     ]
    }
   ],
   "source": [
    "print(prophet[:10])"
   ]
  },
  {
   "cell_type": "markdown",
   "metadata": {},
   "source": [
    "#### The next step is to create a function that will remove references. \n",
    "\n",
    "We will do this by splitting the string on the `{` character and keeping only the part before this character. Write your function below."
   ]
  },
  {
   "cell_type": "code",
   "execution_count": 107,
   "metadata": {},
   "outputs": [],
   "source": [
    "def reference(x):\n",
    "    '''\n",
    "    Input: A string\n",
    "    Output: The string with references removed\n",
    "    \n",
    "\n",
    "    Example:\n",
    "    Input: 'the{7}'\n",
    "    Output: 'the'\n",
    "    '''\n",
    "    return x.split('{')[0]\n",
    "\n",
    "\n",
    "    "
   ]
  },
  {
   "cell_type": "markdown",
   "metadata": {},
   "source": [
    "Now that we have our function, use the `map()` function to apply this function to our book, The Prophet. Return the resulting list to a new list called `prophet_reference`."
   ]
  },
  {
   "cell_type": "code",
   "execution_count": 109,
   "metadata": {},
   "outputs": [],
   "source": [
    "# your code here\n",
    "prophet_reference = list(map(reference, prophet))\n"
   ]
  },
  {
   "cell_type": "markdown",
   "metadata": {},
   "source": [
    "Another thing you may have noticed is that some words contain a line break. Let's write a function to split those words. Our function will return the string split on the character `\\n`. Write your function in the cell below."
   ]
  },
  {
   "cell_type": "code",
   "execution_count": 110,
   "metadata": {},
   "outputs": [],
   "source": [
    "def line_break(x):\n",
    "    '''\n",
    "    Input: A string\n",
    "    Output: A list of strings split on the line break (\\n) character\n",
    "        \n",
    "    Example:\n",
    "    Input: 'the\\nbeloved'\n",
    "    Output: ['the', 'beloved']\n",
    "    '''\n",
    "    \n",
    "    return x.split('\\n')\n"
   ]
  },
  {
   "cell_type": "markdown",
   "metadata": {},
   "source": [
    "Apply the `line_break` function to the `prophet_reference` list. Name the new list `prophet_line`."
   ]
  },
  {
   "cell_type": "code",
   "execution_count": 111,
   "metadata": {
    "scrolled": true
   },
   "outputs": [],
   "source": [
    "# your code here\n",
    "prophet_line = list(map(line_break, prophet_reference))"
   ]
  },
  {
   "cell_type": "markdown",
   "metadata": {},
   "source": [
    "If you look at the elements of `prophet_line`, you will see that the function returned lists and not strings. Our list is now a list of lists. Flatten the list using list comprehension. Assign this new list to `prophet_flat`."
   ]
  },
  {
   "cell_type": "code",
   "execution_count": 112,
   "metadata": {},
   "outputs": [],
   "source": [
    "prophet_flat = [i for sub in prophet_line for i in sub]"
   ]
  },
  {
   "cell_type": "markdown",
   "metadata": {},
   "source": [
    "# Challenge 2 - Filtering\n",
    "\n",
    "When printing out a few words from the book, we see that there are words that we may not want to keep if we choose to analyze the corpus of text. Below is a list of words that we would like to get rid of. Create a function that will return false if it contains a word from the list of words specified and true otherwise."
   ]
  },
  {
   "cell_type": "code",
   "execution_count": 115,
   "metadata": {},
   "outputs": [],
   "source": [
    "def word_filter(x):\n",
    "    '''\n",
    "    Input: A string\n",
    "    Output: True if the word is not in the specified list \n",
    "    and False if the word is in the list.\n",
    "        \n",
    "    Example:\n",
    "    word list = ['and', 'the']\n",
    "    Input: 'and'\n",
    "    Output: False\n",
    "    \n",
    "    Input: 'John'\n",
    "    Output: True\n",
    "    '''\n",
    "    \n",
    "    word_list = ['and', 'the', 'a', 'an']\n",
    "    return x not in word_list\n",
    "\n",
    "    \n",
    "    # your code here"
   ]
  },
  {
   "cell_type": "markdown",
   "metadata": {},
   "source": [
    "Use the `filter()` function to filter out the words speficied in the `word_filter()` function. Store the filtered list in the variable `prophet_filter`."
   ]
  },
  {
   "cell_type": "code",
   "execution_count": 116,
   "metadata": {
    "scrolled": true
   },
   "outputs": [],
   "source": [
    "# your code here\n",
    "prophet_filter = list(filter(word_filter, prophet_flat))"
   ]
  },
  {
   "cell_type": "markdown",
   "metadata": {},
   "source": [
    "# Bonus Challenge\n",
    "\n",
    "Rewrite the `word_filter` function above to not be case sensitive."
   ]
  },
  {
   "cell_type": "code",
   "execution_count": 117,
   "metadata": {},
   "outputs": [],
   "source": [
    "def word_filter_case(x):\n",
    "    \n",
    "    word_list = ['and', 'the', 'a', 'an']\n",
    "    return x.lower() not in word_list\n",
    "\n",
    "prophet_filter_case = list(filter(word_filter_case, prophet_flat))\n",
    "\n"
   ]
  },
  {
   "cell_type": "markdown",
   "metadata": {},
   "source": [
    "# Challenge 3 - Reducing\n",
    "\n",
    "#### Now that we have significantly cleaned up our text corpus, let's use the `reduce()` function to put the words back together into one long string separated by spaces. \n",
    "\n",
    "We will start by writing a function that takes two strings and concatenates them together with a space between the two strings."
   ]
  },
  {
   "cell_type": "code",
   "execution_count": 119,
   "metadata": {},
   "outputs": [],
   "source": [
    "from functools import reduce"
   ]
  },
  {
   "cell_type": "code",
   "execution_count": 121,
   "metadata": {},
   "outputs": [],
   "source": [
    "def concat_space(a, b):\n",
    "    '''\n",
    "    Input:Two strings\n",
    "    Output: A single string separated by a space\n",
    "        \n",
    "    Example:\n",
    "    Input: 'John', 'Smith'\n",
    "    Output: 'John Smith'\n",
    "    '''\n",
    "    return f\"{a} {b}\"\n",
    "\n"
   ]
  },
  {
   "cell_type": "markdown",
   "metadata": {},
   "source": [
    "Use the function above to reduce the text corpus in the list `prophet_filter` into a single string. Assign this new string to the variable `prophet_string`."
   ]
  },
  {
   "cell_type": "code",
   "execution_count": 122,
   "metadata": {},
   "outputs": [
    {
     "name": "stdout",
     "output_type": "stream",
     "text": [
      "PROPHET  |Almustafa, chosen beloved, who was dawn unto his own day, had waited twelve years in city of Orphalese for his ship that was to return bear him back to isle of his birth.  in twelfth year, o\n"
     ]
    }
   ],
   "source": [
    "# your code here\n",
    "prophet_string = reduce(concat_space, prophet_filter_case)\n",
    "print(prophet_string[:200])\n"
   ]
  }
 ],
 "metadata": {
  "kernelspec": {
   "display_name": "Python 3",
   "language": "python",
   "name": "python3"
  },
  "language_info": {
   "codemirror_mode": {
    "name": "ipython",
    "version": 3
   },
   "file_extension": ".py",
   "mimetype": "text/x-python",
   "name": "python",
   "nbconvert_exporter": "python",
   "pygments_lexer": "ipython3",
   "version": "3.11.9"
  }
 },
 "nbformat": 4,
 "nbformat_minor": 2
}
